{
 "cells": [
  {
   "cell_type": "code",
   "execution_count": 8,
   "id": "f37ed2e4-b5d6-4d4e-a469-41e81139d43c",
   "metadata": {},
   "outputs": [],
   "source": [
    "import requests\n",
    "import json\n",
    "import pandas as pd"
   ]
  },
  {
   "cell_type": "markdown",
   "id": "dca670c5-4786-44b1-8308-c179c8befcef",
   "metadata": {},
   "source": [
    "### Reading the file and create a list from destinations"
   ]
  },
  {
   "cell_type": "code",
   "execution_count": 9,
   "id": "a1899bdd-a9c1-4e24-9574-04a0ecb4786e",
   "metadata": {},
   "outputs": [],
   "source": [
    "file = open(\"dests.txt\", \"r\")\n",
    "dests_list = file.read().split('\\n')"
   ]
  },
  {
   "cell_type": "markdown",
   "id": "ba485fef-0f12-4cd6-8ae3-4cf1db92d78e",
   "metadata": {},
   "source": [
    "### Use API key and create an empty dictionary"
   ]
  },
  {
   "cell_type": "code",
   "execution_count": 10,
   "id": "2e7202a0-6f04-4e45-8c1c-266d1c32833b",
   "metadata": {},
   "outputs": [],
   "source": [
    "api_key = 'fakeAPIkey'\n",
    "origin = \"Tel Aviv\"\n",
    "dests_dict = {}"
   ]
  },
  {
   "cell_type": "markdown",
   "id": "e3ce89b6-0724-4134-9bec-3d56ece37a90",
   "metadata": {},
   "source": [
    "### Insert the information to the dictionary"
   ]
  },
  {
   "cell_type": "code",
   "execution_count": 11,
   "id": "9c7a3ca6-d39e-421f-9e5e-e54c36a76923",
   "metadata": {},
   "outputs": [],
   "source": [
    "file = open(\"dests.txt\", \"r\")\n",
    "for city in dests_list:\n",
    "    geo_url = 'https://maps.googleapis.com/maps/api/geocode/json?address=%s&key=%s' % (city, api_key)\n",
    "    dis_url = 'https://maps.googleapis.com/maps/api/distancematrix/json?destinations=%s&origins=%s&key=%s' % (city, origin, api_key)\n",
    "    try:\n",
    "        geo_response = requests.get(geo_url)\n",
    "        dis_response = requests.get(dis_url)\n",
    "        if not geo_response.status_code == 200 or not dis_response.status_code == 200:\n",
    "            print('HTTP ERROR', response.status_code)\n",
    "        else:\n",
    "            try:\n",
    "                geo_response_data = geo_response.json()\n",
    "                dis_response_data = dis_response.json()\n",
    "            except:\n",
    "                print(\"response not in valid JSON format\")\n",
    "            distance = dis_response_data['rows'][0]['elements'][0]['distance']['text']\n",
    "            duration_sec = int(dis_response_data['rows'][0]['elements'][0]['duration']['value'])\n",
    "            duration = f\"{duration_sec // 3600} hours {duration_sec % 3600 // 60} minutes\"\n",
    "            latitude = str(geo_response_data['results'][0]['geometry']['location']['lat'])\n",
    "            longitude = str(geo_response_data['results'][0]['geometry']['location']['lng'])\n",
    "            dests_dict[city]=(distance, duration, latitude, longitude)\n",
    "    except:\n",
    "        print(\"Something went wrong with requests.get\")"
   ]
  },
  {
   "cell_type": "code",
   "execution_count": 12,
   "id": "ac594110-f4da-45c4-ace3-426a3eb48126",
   "metadata": {},
   "outputs": [
    {
     "data": {
      "text/plain": [
       "{'Istanbul': ('1,815 km', '21 hours 2 minutes', '41.0082376', '28.9783589'),\n",
       " 'Amsterdam': ('4,533 km', '48 hours 3 minutes', '52.3675734', '4.9041389'),\n",
       " 'Valletta': ('3,793 km', '50 hours 50 minutes', '35.8992375', '14.5140996'),\n",
       " 'Basel': ('4,093 km', '44 hours 2 minutes', '47.5595986', '7.5885761'),\n",
       " 'Doha': ('2,164 km',\n",
       "  '22 hours 38 minutes',\n",
       "  '25.2854473',\n",
       "  '51.53103979999999')}"
      ]
     },
     "execution_count": 12,
     "metadata": {},
     "output_type": "execute_result"
    }
   ],
   "source": [
    "dests_dict"
   ]
  },
  {
   "cell_type": "markdown",
   "id": "6af82b57-bb4b-4a95-bc76-7d03c5128a2e",
   "metadata": {
    "tags": []
   },
   "source": [
    "### Create a dataframe that stores the information"
   ]
  },
  {
   "cell_type": "code",
   "execution_count": 16,
   "id": "094d4249-996d-4f9b-97dd-4697d27119c7",
   "metadata": {},
   "outputs": [
    {
     "data": {
      "text/html": [
       "<div>\n",
       "<style scoped>\n",
       "    .dataframe tbody tr th:only-of-type {\n",
       "        vertical-align: middle;\n",
       "    }\n",
       "\n",
       "    .dataframe tbody tr th {\n",
       "        vertical-align: top;\n",
       "    }\n",
       "\n",
       "    .dataframe thead th {\n",
       "        text-align: right;\n",
       "    }\n",
       "</style>\n",
       "<table border=\"1\" class=\"dataframe\">\n",
       "  <thead>\n",
       "    <tr style=\"text-align: right;\">\n",
       "      <th></th>\n",
       "      <th>Distance_km</th>\n",
       "      <th>Duration</th>\n",
       "      <th>Longitude</th>\n",
       "      <th>Latitude</th>\n",
       "    </tr>\n",
       "    <tr>\n",
       "      <th>Target</th>\n",
       "      <th></th>\n",
       "      <th></th>\n",
       "      <th></th>\n",
       "      <th></th>\n",
       "    </tr>\n",
       "  </thead>\n",
       "  <tbody>\n",
       "    <tr>\n",
       "      <th>Istanbul</th>\n",
       "      <td>1,815 km</td>\n",
       "      <td>21 hours 2 minutes</td>\n",
       "      <td>41.0082376</td>\n",
       "      <td>28.9783589</td>\n",
       "    </tr>\n",
       "    <tr>\n",
       "      <th>Amsterdam</th>\n",
       "      <td>4,533 km</td>\n",
       "      <td>48 hours 3 minutes</td>\n",
       "      <td>52.3675734</td>\n",
       "      <td>4.9041389</td>\n",
       "    </tr>\n",
       "    <tr>\n",
       "      <th>Valletta</th>\n",
       "      <td>3,793 km</td>\n",
       "      <td>50 hours 50 minutes</td>\n",
       "      <td>35.8992375</td>\n",
       "      <td>14.5140996</td>\n",
       "    </tr>\n",
       "    <tr>\n",
       "      <th>Basel</th>\n",
       "      <td>4,093 km</td>\n",
       "      <td>44 hours 2 minutes</td>\n",
       "      <td>47.5595986</td>\n",
       "      <td>7.5885761</td>\n",
       "    </tr>\n",
       "    <tr>\n",
       "      <th>Doha</th>\n",
       "      <td>2,164 km</td>\n",
       "      <td>22 hours 38 minutes</td>\n",
       "      <td>25.2854473</td>\n",
       "      <td>51.53103979999999</td>\n",
       "    </tr>\n",
       "  </tbody>\n",
       "</table>\n",
       "</div>"
      ],
      "text/plain": [
       "          Distance_km             Duration   Longitude           Latitude\n",
       "Target                                                                   \n",
       "Istanbul     1,815 km   21 hours 2 minutes  41.0082376         28.9783589\n",
       "Amsterdam    4,533 km   48 hours 3 minutes  52.3675734          4.9041389\n",
       "Valletta     3,793 km  50 hours 50 minutes  35.8992375         14.5140996\n",
       "Basel        4,093 km   44 hours 2 minutes  47.5595986          7.5885761\n",
       "Doha         2,164 km  22 hours 38 minutes  25.2854473  51.53103979999999"
      ]
     },
     "execution_count": 16,
     "metadata": {},
     "output_type": "execute_result"
    }
   ],
   "source": [
    "df = pd.DataFrame.from_dict(dests_dict, orient='index', columns=[\"Distance_km\", \"Duration\", \"Longitude\", \"Latitude\"])\n",
    "df.index.name = \"Target\"\n",
    "df"
   ]
  },
  {
   "cell_type": "markdown",
   "id": "91c08372-665f-4b22-88c6-f283c81f561b",
   "metadata": {},
   "source": [
    "### Furthest 3 cities from Tel-Aviv"
   ]
  },
  {
   "cell_type": "code",
   "execution_count": 14,
   "id": "e145e5d1-5375-47b0-8f72-dba40075da46",
   "metadata": {},
   "outputs": [
    {
     "data": {
      "text/plain": [
       "['Amsterdam', 'Basel', 'Valletta']"
      ]
     },
     "execution_count": 14,
     "metadata": {},
     "output_type": "execute_result"
    }
   ],
   "source": [
    "sorted(dests_dict, key = dests_dict.get, reverse = True)[:3]"
   ]
  }
 ],
 "metadata": {
  "kernelspec": {
   "display_name": "Python 3 (ipykernel)",
   "language": "python",
   "name": "python3"
  },
  "language_info": {
   "codemirror_mode": {
    "name": "ipython",
    "version": 3
   },
   "file_extension": ".py",
   "mimetype": "text/x-python",
   "name": "python",
   "nbconvert_exporter": "python",
   "pygments_lexer": "ipython3",
   "version": "3.9.13"
  }
 },
 "nbformat": 4,
 "nbformat_minor": 5
}
